{
 "cells": [
  {
   "cell_type": "markdown",
   "id": "536abedc",
   "metadata": {},
   "source": [
    "### Common Imports"
   ]
  },
  {
   "cell_type": "code",
   "execution_count": 1,
   "id": "05ba847a",
   "metadata": {},
   "outputs": [],
   "source": [
    "import numpy as np\n",
    "import pandas as pd\n",
    "import matplotlib.pyplot as plt\n",
    "\n",
    "import time\n",
    "import tracemalloc"
   ]
  },
  {
   "cell_type": "code",
   "execution_count": 2,
   "id": "793c72e6",
   "metadata": {},
   "outputs": [],
   "source": [
    "seed = 58"
   ]
  },
  {
   "cell_type": "markdown",
   "id": "7948257d",
   "metadata": {},
   "source": [
    "### Preprocessing"
   ]
  },
  {
   "cell_type": "code",
   "execution_count": 3,
   "id": "d490f58f",
   "metadata": {},
   "outputs": [],
   "source": [
    "bank_df = pd.read_csv(\"bank.csv\", delimiter = \";\")"
   ]
  },
  {
   "cell_type": "code",
   "execution_count": 4,
   "id": "06280c3c",
   "metadata": {},
   "outputs": [],
   "source": [
    "bank = bank_df.copy()"
   ]
  },
  {
   "cell_type": "code",
   "execution_count": 5,
   "id": "d71b9857",
   "metadata": {},
   "outputs": [
    {
     "data": {
      "text/html": [
       "<div>\n",
       "<style scoped>\n",
       "    .dataframe tbody tr th:only-of-type {\n",
       "        vertical-align: middle;\n",
       "    }\n",
       "\n",
       "    .dataframe tbody tr th {\n",
       "        vertical-align: top;\n",
       "    }\n",
       "\n",
       "    .dataframe thead th {\n",
       "        text-align: right;\n",
       "    }\n",
       "</style>\n",
       "<table border=\"1\" class=\"dataframe\">\n",
       "  <thead>\n",
       "    <tr style=\"text-align: right;\">\n",
       "      <th></th>\n",
       "      <th>age</th>\n",
       "      <th>job</th>\n",
       "      <th>marital</th>\n",
       "      <th>education</th>\n",
       "      <th>default</th>\n",
       "      <th>housing</th>\n",
       "      <th>loan</th>\n",
       "      <th>contact</th>\n",
       "      <th>month</th>\n",
       "      <th>day_of_week</th>\n",
       "      <th>...</th>\n",
       "      <th>campaign</th>\n",
       "      <th>pdays</th>\n",
       "      <th>previous</th>\n",
       "      <th>poutcome</th>\n",
       "      <th>emp.var.rate</th>\n",
       "      <th>cons.price.idx</th>\n",
       "      <th>cons.conf.idx</th>\n",
       "      <th>euribor3m</th>\n",
       "      <th>nr.employed</th>\n",
       "      <th>y</th>\n",
       "    </tr>\n",
       "  </thead>\n",
       "  <tbody>\n",
       "    <tr>\n",
       "      <th>0</th>\n",
       "      <td>56</td>\n",
       "      <td>housemaid</td>\n",
       "      <td>married</td>\n",
       "      <td>basic.4y</td>\n",
       "      <td>no</td>\n",
       "      <td>no</td>\n",
       "      <td>no</td>\n",
       "      <td>telephone</td>\n",
       "      <td>may</td>\n",
       "      <td>mon</td>\n",
       "      <td>...</td>\n",
       "      <td>1</td>\n",
       "      <td>999</td>\n",
       "      <td>0</td>\n",
       "      <td>nonexistent</td>\n",
       "      <td>1.1</td>\n",
       "      <td>93.994</td>\n",
       "      <td>-36.4</td>\n",
       "      <td>4.857</td>\n",
       "      <td>5191.0</td>\n",
       "      <td>no</td>\n",
       "    </tr>\n",
       "    <tr>\n",
       "      <th>1</th>\n",
       "      <td>57</td>\n",
       "      <td>services</td>\n",
       "      <td>married</td>\n",
       "      <td>high.school</td>\n",
       "      <td>unknown</td>\n",
       "      <td>no</td>\n",
       "      <td>no</td>\n",
       "      <td>telephone</td>\n",
       "      <td>may</td>\n",
       "      <td>mon</td>\n",
       "      <td>...</td>\n",
       "      <td>1</td>\n",
       "      <td>999</td>\n",
       "      <td>0</td>\n",
       "      <td>nonexistent</td>\n",
       "      <td>1.1</td>\n",
       "      <td>93.994</td>\n",
       "      <td>-36.4</td>\n",
       "      <td>4.857</td>\n",
       "      <td>5191.0</td>\n",
       "      <td>no</td>\n",
       "    </tr>\n",
       "    <tr>\n",
       "      <th>2</th>\n",
       "      <td>37</td>\n",
       "      <td>services</td>\n",
       "      <td>married</td>\n",
       "      <td>high.school</td>\n",
       "      <td>no</td>\n",
       "      <td>yes</td>\n",
       "      <td>no</td>\n",
       "      <td>telephone</td>\n",
       "      <td>may</td>\n",
       "      <td>mon</td>\n",
       "      <td>...</td>\n",
       "      <td>1</td>\n",
       "      <td>999</td>\n",
       "      <td>0</td>\n",
       "      <td>nonexistent</td>\n",
       "      <td>1.1</td>\n",
       "      <td>93.994</td>\n",
       "      <td>-36.4</td>\n",
       "      <td>4.857</td>\n",
       "      <td>5191.0</td>\n",
       "      <td>no</td>\n",
       "    </tr>\n",
       "    <tr>\n",
       "      <th>3</th>\n",
       "      <td>40</td>\n",
       "      <td>admin.</td>\n",
       "      <td>married</td>\n",
       "      <td>basic.6y</td>\n",
       "      <td>no</td>\n",
       "      <td>no</td>\n",
       "      <td>no</td>\n",
       "      <td>telephone</td>\n",
       "      <td>may</td>\n",
       "      <td>mon</td>\n",
       "      <td>...</td>\n",
       "      <td>1</td>\n",
       "      <td>999</td>\n",
       "      <td>0</td>\n",
       "      <td>nonexistent</td>\n",
       "      <td>1.1</td>\n",
       "      <td>93.994</td>\n",
       "      <td>-36.4</td>\n",
       "      <td>4.857</td>\n",
       "      <td>5191.0</td>\n",
       "      <td>no</td>\n",
       "    </tr>\n",
       "    <tr>\n",
       "      <th>4</th>\n",
       "      <td>56</td>\n",
       "      <td>services</td>\n",
       "      <td>married</td>\n",
       "      <td>high.school</td>\n",
       "      <td>no</td>\n",
       "      <td>no</td>\n",
       "      <td>yes</td>\n",
       "      <td>telephone</td>\n",
       "      <td>may</td>\n",
       "      <td>mon</td>\n",
       "      <td>...</td>\n",
       "      <td>1</td>\n",
       "      <td>999</td>\n",
       "      <td>0</td>\n",
       "      <td>nonexistent</td>\n",
       "      <td>1.1</td>\n",
       "      <td>93.994</td>\n",
       "      <td>-36.4</td>\n",
       "      <td>4.857</td>\n",
       "      <td>5191.0</td>\n",
       "      <td>no</td>\n",
       "    </tr>\n",
       "  </tbody>\n",
       "</table>\n",
       "<p>5 rows × 21 columns</p>\n",
       "</div>"
      ],
      "text/plain": [
       "   age        job  marital    education  default housing loan    contact  \\\n",
       "0   56  housemaid  married     basic.4y       no      no   no  telephone   \n",
       "1   57   services  married  high.school  unknown      no   no  telephone   \n",
       "2   37   services  married  high.school       no     yes   no  telephone   \n",
       "3   40     admin.  married     basic.6y       no      no   no  telephone   \n",
       "4   56   services  married  high.school       no      no  yes  telephone   \n",
       "\n",
       "  month day_of_week  ...  campaign  pdays  previous     poutcome emp.var.rate  \\\n",
       "0   may         mon  ...         1    999         0  nonexistent          1.1   \n",
       "1   may         mon  ...         1    999         0  nonexistent          1.1   \n",
       "2   may         mon  ...         1    999         0  nonexistent          1.1   \n",
       "3   may         mon  ...         1    999         0  nonexistent          1.1   \n",
       "4   may         mon  ...         1    999         0  nonexistent          1.1   \n",
       "\n",
       "   cons.price.idx  cons.conf.idx  euribor3m  nr.employed   y  \n",
       "0          93.994          -36.4      4.857       5191.0  no  \n",
       "1          93.994          -36.4      4.857       5191.0  no  \n",
       "2          93.994          -36.4      4.857       5191.0  no  \n",
       "3          93.994          -36.4      4.857       5191.0  no  \n",
       "4          93.994          -36.4      4.857       5191.0  no  \n",
       "\n",
       "[5 rows x 21 columns]"
      ]
     },
     "execution_count": 5,
     "metadata": {},
     "output_type": "execute_result"
    }
   ],
   "source": [
    "bank.head()"
   ]
  },
  {
   "cell_type": "code",
   "execution_count": 6,
   "id": "0be12832",
   "metadata": {},
   "outputs": [
    {
     "data": {
      "text/plain": [
       "(41188, 21)"
      ]
     },
     "execution_count": 6,
     "metadata": {},
     "output_type": "execute_result"
    }
   ],
   "source": [
    "bank.shape"
   ]
  },
  {
   "cell_type": "code",
   "execution_count": 7,
   "id": "9fd3429a",
   "metadata": {
    "scrolled": true
   },
   "outputs": [
    {
     "name": "stdout",
     "output_type": "stream",
     "text": [
      "<class 'pandas.core.frame.DataFrame'>\n",
      "RangeIndex: 41188 entries, 0 to 41187\n",
      "Data columns (total 21 columns):\n",
      " #   Column          Non-Null Count  Dtype  \n",
      "---  ------          --------------  -----  \n",
      " 0   age             41188 non-null  int64  \n",
      " 1   job             41188 non-null  object \n",
      " 2   marital         41188 non-null  object \n",
      " 3   education       41188 non-null  object \n",
      " 4   default         41188 non-null  object \n",
      " 5   housing         41188 non-null  object \n",
      " 6   loan            41188 non-null  object \n",
      " 7   contact         41188 non-null  object \n",
      " 8   month           41188 non-null  object \n",
      " 9   day_of_week     41188 non-null  object \n",
      " 10  duration        41188 non-null  int64  \n",
      " 11  campaign        41188 non-null  int64  \n",
      " 12  pdays           41188 non-null  int64  \n",
      " 13  previous        41188 non-null  int64  \n",
      " 14  poutcome        41188 non-null  object \n",
      " 15  emp.var.rate    41188 non-null  float64\n",
      " 16  cons.price.idx  41188 non-null  float64\n",
      " 17  cons.conf.idx   41188 non-null  float64\n",
      " 18  euribor3m       41188 non-null  float64\n",
      " 19  nr.employed     41188 non-null  float64\n",
      " 20  y               41188 non-null  object \n",
      "dtypes: float64(5), int64(5), object(11)\n",
      "memory usage: 6.6+ MB\n"
     ]
    }
   ],
   "source": [
    "bank.info()"
   ]
  },
  {
   "cell_type": "code",
   "execution_count": 8,
   "id": "efc05bf0",
   "metadata": {},
   "outputs": [
    {
     "data": {
      "text/html": [
       "<div>\n",
       "<style scoped>\n",
       "    .dataframe tbody tr th:only-of-type {\n",
       "        vertical-align: middle;\n",
       "    }\n",
       "\n",
       "    .dataframe tbody tr th {\n",
       "        vertical-align: top;\n",
       "    }\n",
       "\n",
       "    .dataframe thead th {\n",
       "        text-align: right;\n",
       "    }\n",
       "</style>\n",
       "<table border=\"1\" class=\"dataframe\">\n",
       "  <thead>\n",
       "    <tr style=\"text-align: right;\">\n",
       "      <th></th>\n",
       "      <th>age</th>\n",
       "      <th>duration</th>\n",
       "      <th>campaign</th>\n",
       "      <th>pdays</th>\n",
       "      <th>previous</th>\n",
       "      <th>emp.var.rate</th>\n",
       "      <th>cons.price.idx</th>\n",
       "      <th>cons.conf.idx</th>\n",
       "      <th>euribor3m</th>\n",
       "      <th>nr.employed</th>\n",
       "    </tr>\n",
       "  </thead>\n",
       "  <tbody>\n",
       "    <tr>\n",
       "      <th>count</th>\n",
       "      <td>41188.00000</td>\n",
       "      <td>41188.000000</td>\n",
       "      <td>41188.000000</td>\n",
       "      <td>41188.000000</td>\n",
       "      <td>41188.000000</td>\n",
       "      <td>41188.000000</td>\n",
       "      <td>41188.000000</td>\n",
       "      <td>41188.000000</td>\n",
       "      <td>41188.000000</td>\n",
       "      <td>41188.000000</td>\n",
       "    </tr>\n",
       "    <tr>\n",
       "      <th>mean</th>\n",
       "      <td>40.02406</td>\n",
       "      <td>258.285010</td>\n",
       "      <td>2.567593</td>\n",
       "      <td>962.475454</td>\n",
       "      <td>0.172963</td>\n",
       "      <td>0.081886</td>\n",
       "      <td>93.575664</td>\n",
       "      <td>-40.502600</td>\n",
       "      <td>3.621291</td>\n",
       "      <td>5167.035911</td>\n",
       "    </tr>\n",
       "    <tr>\n",
       "      <th>std</th>\n",
       "      <td>10.42125</td>\n",
       "      <td>259.279249</td>\n",
       "      <td>2.770014</td>\n",
       "      <td>186.910907</td>\n",
       "      <td>0.494901</td>\n",
       "      <td>1.570960</td>\n",
       "      <td>0.578840</td>\n",
       "      <td>4.628198</td>\n",
       "      <td>1.734447</td>\n",
       "      <td>72.251528</td>\n",
       "    </tr>\n",
       "    <tr>\n",
       "      <th>min</th>\n",
       "      <td>17.00000</td>\n",
       "      <td>0.000000</td>\n",
       "      <td>1.000000</td>\n",
       "      <td>0.000000</td>\n",
       "      <td>0.000000</td>\n",
       "      <td>-3.400000</td>\n",
       "      <td>92.201000</td>\n",
       "      <td>-50.800000</td>\n",
       "      <td>0.634000</td>\n",
       "      <td>4963.600000</td>\n",
       "    </tr>\n",
       "    <tr>\n",
       "      <th>25%</th>\n",
       "      <td>32.00000</td>\n",
       "      <td>102.000000</td>\n",
       "      <td>1.000000</td>\n",
       "      <td>999.000000</td>\n",
       "      <td>0.000000</td>\n",
       "      <td>-1.800000</td>\n",
       "      <td>93.075000</td>\n",
       "      <td>-42.700000</td>\n",
       "      <td>1.344000</td>\n",
       "      <td>5099.100000</td>\n",
       "    </tr>\n",
       "    <tr>\n",
       "      <th>50%</th>\n",
       "      <td>38.00000</td>\n",
       "      <td>180.000000</td>\n",
       "      <td>2.000000</td>\n",
       "      <td>999.000000</td>\n",
       "      <td>0.000000</td>\n",
       "      <td>1.100000</td>\n",
       "      <td>93.749000</td>\n",
       "      <td>-41.800000</td>\n",
       "      <td>4.857000</td>\n",
       "      <td>5191.000000</td>\n",
       "    </tr>\n",
       "    <tr>\n",
       "      <th>75%</th>\n",
       "      <td>47.00000</td>\n",
       "      <td>319.000000</td>\n",
       "      <td>3.000000</td>\n",
       "      <td>999.000000</td>\n",
       "      <td>0.000000</td>\n",
       "      <td>1.400000</td>\n",
       "      <td>93.994000</td>\n",
       "      <td>-36.400000</td>\n",
       "      <td>4.961000</td>\n",
       "      <td>5228.100000</td>\n",
       "    </tr>\n",
       "    <tr>\n",
       "      <th>max</th>\n",
       "      <td>98.00000</td>\n",
       "      <td>4918.000000</td>\n",
       "      <td>56.000000</td>\n",
       "      <td>999.000000</td>\n",
       "      <td>7.000000</td>\n",
       "      <td>1.400000</td>\n",
       "      <td>94.767000</td>\n",
       "      <td>-26.900000</td>\n",
       "      <td>5.045000</td>\n",
       "      <td>5228.100000</td>\n",
       "    </tr>\n",
       "  </tbody>\n",
       "</table>\n",
       "</div>"
      ],
      "text/plain": [
       "               age      duration      campaign         pdays      previous  \\\n",
       "count  41188.00000  41188.000000  41188.000000  41188.000000  41188.000000   \n",
       "mean      40.02406    258.285010      2.567593    962.475454      0.172963   \n",
       "std       10.42125    259.279249      2.770014    186.910907      0.494901   \n",
       "min       17.00000      0.000000      1.000000      0.000000      0.000000   \n",
       "25%       32.00000    102.000000      1.000000    999.000000      0.000000   \n",
       "50%       38.00000    180.000000      2.000000    999.000000      0.000000   \n",
       "75%       47.00000    319.000000      3.000000    999.000000      0.000000   \n",
       "max       98.00000   4918.000000     56.000000    999.000000      7.000000   \n",
       "\n",
       "       emp.var.rate  cons.price.idx  cons.conf.idx     euribor3m   nr.employed  \n",
       "count  41188.000000    41188.000000   41188.000000  41188.000000  41188.000000  \n",
       "mean       0.081886       93.575664     -40.502600      3.621291   5167.035911  \n",
       "std        1.570960        0.578840       4.628198      1.734447     72.251528  \n",
       "min       -3.400000       92.201000     -50.800000      0.634000   4963.600000  \n",
       "25%       -1.800000       93.075000     -42.700000      1.344000   5099.100000  \n",
       "50%        1.100000       93.749000     -41.800000      4.857000   5191.000000  \n",
       "75%        1.400000       93.994000     -36.400000      4.961000   5228.100000  \n",
       "max        1.400000       94.767000     -26.900000      5.045000   5228.100000  "
      ]
     },
     "execution_count": 8,
     "metadata": {},
     "output_type": "execute_result"
    }
   ],
   "source": [
    "bank.describe()"
   ]
  },
  {
   "cell_type": "markdown",
   "id": "2ae2a296",
   "metadata": {},
   "source": [
    "##### Dropping attribute \"duration\" as the metadata provided suggested that this attribute highly affects the output variable and should be removed from the data before using it for predictive modelling."
   ]
  },
  {
   "cell_type": "code",
   "execution_count": 9,
   "id": "c546cd4d",
   "metadata": {},
   "outputs": [],
   "source": [
    "bank = bank.drop(\"duration\", axis = 1)"
   ]
  },
  {
   "cell_type": "markdown",
   "id": "589284e1",
   "metadata": {},
   "source": [
    "### Numerical Attributes"
   ]
  },
  {
   "cell_type": "code",
   "execution_count": 10,
   "id": "96ad1a84",
   "metadata": {},
   "outputs": [
    {
     "data": {
      "image/png": "[encoded data removed]",
      "text/plain": [
       "<Figure size 1440x1080 with 9 Axes>"
      ]
     },
     "metadata": {
      "needs_background": "light"
     },
     "output_type": "display_data"
    }
   ],
   "source": [
    "%matplotlib inline\n",
    "\n",
    "bank.hist(bins = 50, figsize = (20, 15))\n",
    "plt.show()"
   ]
  },
  {
   "cell_type": "markdown",
   "id": "b4db3811",
   "metadata": {},
   "source": [
    "### Categorical Attributes"
   ]
  },
  {
   "cell_type": "code",
   "execution_count": 11,
   "id": "dbb30acb",
   "metadata": {},
   "outputs": [
    {
     "data": {
      "image/png": "[encoded data removed]",
      "text/plain": [
       "<Figure size 1800x2016 with 9 Axes>"
      ]
     },
     "metadata": {
      "needs_background": "light"
     },
     "output_type": "display_data"
    }
   ],
   "source": [
    "fig, axs = plt.subplots(3, 3, figsize = (25, 28))\n",
    "\n",
    "axs[0][0].bar(x = bank[\"job\"].value_counts().index,\n",
    "          height = bank.job.value_counts().values)\n",
    "axs[0][0].set_title(\"job\")\n",
    "axs[0][0].tick_params(axis = 'x', rotation=90)\n",
    "\n",
    "axs[0][1].bar(x = bank[\"marital\"].value_counts().index,\n",
    "          height = bank.marital.value_counts().values)\n",
    "axs[0][1].set_title(\"marital status\")\n",
    "\n",
    "axs[0][2].bar(x = bank[\"education\"].value_counts().index,\n",
    "          height = bank.education.value_counts().values)\n",
    "axs[0][2].set_title(\"education\")\n",
    "axs[0][2].tick_params(axis = 'x', rotation=90)\n",
    "\n",
    "axs[1][0].bar(x = bank[\"default\"].value_counts().index,\n",
    "          height = bank.default.value_counts().values)\n",
    "axs[1][0].set_title(\"Has credit in default?\")\n",
    "\n",
    "axs[1][1].bar(x = bank[\"housing\"].value_counts().index,\n",
    "          height = bank.housing.value_counts().values)\n",
    "axs[1][1].set_title(\"Has housing loan?\")\n",
    "\n",
    "axs[1][2].bar(x = bank[\"loan\"].value_counts().index,\n",
    "          height = bank.loan.value_counts().values)\n",
    "axs[1][2].set_title(\"Has personal loan?\")\n",
    "\n",
    "axs[2][0].bar(x = bank[\"contact\"].value_counts().index,\n",
    "          height = bank.contact.value_counts().values)\n",
    "axs[2][0].set_title(\"Contact communication type\")\n",
    "\n",
    "axs[2][1].bar(x = bank[\"month\"].value_counts().index,\n",
    "          height = bank.month.value_counts().values)\n",
    "axs[2][1].set_title(\"Last contact month\")\n",
    "\n",
    "axs[2][2].bar(x = bank[\"poutcome\"].value_counts().index,\n",
    "          height = bank.poutcome.value_counts().values)\n",
    "axs[2][2].set_title(\"poutcome\")\n",
    "\n",
    "plt.show()"
   ]
  },
  {
   "cell_type": "markdown",
   "id": "bfbb6bfc",
   "metadata": {},
   "source": [
    "##### There are no null values but there are several missing values in some categorical attributes, all coded with the \"unknown\" label. These missing values are treated as a possible class label."
   ]
  },
  {
   "cell_type": "markdown",
   "id": "d8c8802e",
   "metadata": {},
   "source": [
    "#####  The data is highly biased in attribute \"default\", value count of \"no\" is 32588 while value count of \"yes\" is only 3, and there are 8597 unknown values as well, splitting the dataset using stratify with attribute \"default\" to ensure that the test set and the train set have the same imbalance as seen in the original data."
   ]
  },
  {
   "cell_type": "markdown",
   "id": "62af1956",
   "metadata": {},
   "source": [
    "### Split train and test set"
   ]
  },
  {
   "cell_type": "code",
   "execution_count": 12,
   "id": "a1ba4ad1",
   "metadata": {},
   "outputs": [],
   "source": [
    "X = bank.drop(\"y\", axis = 1)\n",
    "y = bank[\"y\"]"
   ]
  },
  {
   "cell_type": "code",
   "execution_count": 13,
   "id": "7fed7c21",
   "metadata": {},
   "outputs": [],
   "source": [
    "from sklearn.model_selection import train_test_split\n",
    "\n",
    "X_train, X_test, y_train, y_test = train_test_split(X, y, test_size = 0.2, stratify = bank[\"default\"], random_state = seed)"
   ]
  },
  {
   "cell_type": "markdown",
   "id": "a12df93f",
   "metadata": {},
   "source": [
    "### Feature Scaling and One Hot Encoding"
   ]
  },
  {
   "cell_type": "code",
   "execution_count": 14,
   "id": "2e8eba70",
   "metadata": {},
   "outputs": [],
   "source": [
    "from sklearn.compose import ColumnTransformer\n",
    "from sklearn.preprocessing import MinMaxScaler, OneHotEncoder\n",
    "\n",
    "cat_attr = list(bank.columns[1:10]) + [\"poutcome\"]\n",
    "num_attr = [\"age\"] +  list(bank.columns[10:13]) + list(bank.columns[14:19])\n",
    "\n",
    "pipeline = ColumnTransformer([\n",
    "    (\"num\", MinMaxScaler(), num_attr),\n",
    "    (\"cat\", OneHotEncoder(), cat_attr)\n",
    "])\n",
    "\n",
    "X_train_ES = pipeline.fit_transform(X_train)\n",
    "\n",
    "y_train = y_train.map({\"yes\" : 1, \"no\" : 0})"
   ]
  },
  {
   "cell_type": "code",
   "execution_count": 15,
   "id": "aa1037a6",
   "metadata": {},
   "outputs": [
    {
     "data": {
      "text/plain": [
       "(32950, 62)"
      ]
     },
     "execution_count": 15,
     "metadata": {},
     "output_type": "execute_result"
    }
   ],
   "source": [
    "X_train_ES.shape"
   ]
  },
  {
   "cell_type": "markdown",
   "id": "506fca23",
   "metadata": {},
   "source": [
    "#### Transform test set"
   ]
  },
  {
   "cell_type": "code",
   "execution_count": 16,
   "id": "1941344f",
   "metadata": {},
   "outputs": [],
   "source": [
    "X_test_ES = pipeline.transform(X_test)\n",
    "y_test = y_test.map({\"yes\" : 1, \"no\" : 0})"
   ]
  },
  {
   "cell_type": "markdown",
   "id": "5c0fef2e",
   "metadata": {},
   "source": [
    "## Decision Tree Classifier"
   ]
  },
  {
   "cell_type": "code",
   "execution_count": 17,
   "id": "0dca9a13",
   "metadata": {},
   "outputs": [
    {
     "name": "stdout",
     "output_type": "stream",
     "text": [
      "Time taken:  0.28086120000000037 sec\n"
     ]
    }
   ],
   "source": [
    "from sklearn.tree import DecisionTreeClassifier\n",
    "\n",
    "tree_clf = DecisionTreeClassifier(min_samples_split = 45, max_depth = 8, class_weight = \"balanced\", \n",
    "                                 criterion = \"entropy\", random_state = seed)\n",
    "\n",
    "start_time = time.perf_counter()\n",
    "tree_clf.fit(X_train_ES, y_train)\n",
    "end_time = time.perf_counter()\n",
    "print(\"Time taken: \", end_time - start_time, \"sec\")"
   ]
  },
  {
   "cell_type": "markdown",
   "id": "4a175a0a",
   "metadata": {},
   "source": [
    "#### Evaluating on test set"
   ]
  },
  {
   "cell_type": "code",
   "execution_count": 18,
   "id": "c7eb823c",
   "metadata": {},
   "outputs": [],
   "source": [
    "tree_pred = tree_clf.predict(X_test_ES)"
   ]
  },
  {
   "cell_type": "code",
   "execution_count": 19,
   "id": "07737264",
   "metadata": {},
   "outputs": [
    {
     "name": "stdout",
     "output_type": "stream",
     "text": [
      "F1 score:  0.4540796216003153\n",
      "Recall:  0.6322722283205269\n",
      "Precision:  0.35424354243542433\n",
      "Accuracy:  0.8318766690944404\n",
      "F Beta Score:  0.6043698308850758\n",
      "Classification report: \n",
      "               precision    recall  f1-score   support\n",
      "\n",
      "           0       0.95      0.86      0.90      7327\n",
      "           1       0.35      0.63      0.45       911\n",
      "\n",
      "    accuracy                           0.83      8238\n",
      "   macro avg       0.65      0.74      0.68      8238\n",
      "weighted avg       0.88      0.83      0.85      8238\n",
      "\n"
     ]
    }
   ],
   "source": [
    "from sklearn.metrics import f1_score, recall_score, precision_score, classification_report, accuracy_score, fbeta_score\n",
    "\n",
    "print(\"F1 score: \", f1_score(y_test, tree_pred))\n",
    "print(\"Recall: \", recall_score(y_test, tree_pred))\n",
    "print(\"Precision: \", precision_score(y_test, tree_pred))\n",
    "print(\"Accuracy: \", accuracy_score(y_test, tree_pred))\n",
    "print(\"F Beta Score: \", fbeta_score(y_test, tree_pred, beta = 4))\n",
    "print(\"Classification report: \\n\", classification_report(y_test, tree_pred))"
   ]
  },
  {
   "cell_type": "markdown",
   "id": "a2388d79",
   "metadata": {},
   "source": [
    "### Tuning hyperparameters with Grid Search"
   ]
  },
  {
   "cell_type": "code",
   "execution_count": 20,
   "id": "06b81fab",
   "metadata": {},
   "outputs": [
    {
     "data": {
      "text/plain": [
       "GridSearchCV(cv=5,\n",
       "             estimator=DecisionTreeClassifier(class_weight='balanced',\n",
       "                                              random_state=58),\n",
       "             param_grid=[{'criterion': ['entropy', 'gini'],\n",
       "                          'max_depth': [7, 8, 10],\n",
       "                          'min_samples_split': [45, 50, 60, 70]}],\n",
       "             return_train_score=True, scoring=make_scorer(fbeta_score, beta=4))"
      ]
     },
     "execution_count": 20,
     "metadata": {},
     "output_type": "execute_result"
    }
   ],
   "source": [
    "from sklearn.model_selection import GridSearchCV\n",
    "from sklearn.metrics import make_scorer, fbeta_score\n",
    "\n",
    "param_grid = [\n",
    "    {\"criterion\" : [\"entropy\", \"gini\"], \"min_samples_split\" : [45, 50, 60, 70], \"max_depth\" : [7, 8, 10]}\n",
    "]\n",
    "\n",
    "scorer = make_scorer(fbeta_score, beta = 4)\n",
    "\n",
    "tree = DecisionTreeClassifier(class_weight = \"balanced\", random_state = seed)\n",
    "grid_search = GridSearchCV(tree, param_grid, cv = 5, scoring = scorer, return_train_score = True)\n",
    "\n",
    "grid_search.fit(X_train_ES, y_train)"
   ]
  },
  {
   "cell_type": "markdown",
   "id": "3970dab3",
   "metadata": {},
   "source": [
    "#### Cross validation scores on train set"
   ]
  },
  {
   "cell_type": "code",
   "execution_count": 21,
   "id": "234ef30f",
   "metadata": {
    "scrolled": true
   },
   "outputs": [
    {
     "name": "stdout",
     "output_type": "stream",
     "text": [
      "0.5791125090740354 {'criterion': 'entropy', 'max_depth': 7, 'min_samples_split': 45}\n",
      "0.5790941025409697 {'criterion': 'entropy', 'max_depth': 7, 'min_samples_split': 50}\n",
      "0.5798104293163522 {'criterion': 'entropy', 'max_depth': 7, 'min_samples_split': 60}\n",
      "0.5797932632363813 {'criterion': 'entropy', 'max_depth': 7, 'min_samples_split': 70}\n",
      "0.5771030608447931 {'criterion': 'entropy', 'max_depth': 8, 'min_samples_split': 45}\n",
      "0.5770666297425766 {'criterion': 'entropy', 'max_depth': 8, 'min_samples_split': 50}\n",
      "0.5783262997787946 {'criterion': 'entropy', 'max_depth': 8, 'min_samples_split': 60}\n",
      "0.5794508943269692 {'criterion': 'entropy', 'max_depth': 8, 'min_samples_split': 70}\n",
      "0.569607380449212 {'criterion': 'entropy', 'max_depth': 10, 'min_samples_split': 45}\n",
      "0.5712673380788972 {'criterion': 'entropy', 'max_depth': 10, 'min_samples_split': 50}\n",
      "0.5738101863719244 {'criterion': 'entropy', 'max_depth': 10, 'min_samples_split': 60}\n",
      "0.5756886609811923 {'criterion': 'entropy', 'max_depth': 10, 'min_samples_split': 70}\n",
      "0.5808434008158929 {'criterion': 'gini', 'max_depth': 7, 'min_samples_split': 45}\n",
      "0.5806223545063289 {'criterion': 'gini', 'max_depth': 7, 'min_samples_split': 50}\n",
      "0.5803041851790057 {'criterion': 'gini', 'max_depth': 7, 'min_samples_split': 60}\n",
      "0.5812666978968106 {'criterion': 'gini', 'max_depth': 7, 'min_samples_split': 70}\n",
      "0.582666712868454 {'criterion': 'gini', 'max_depth': 8, 'min_samples_split': 45}\n",
      "0.5831434731926819 {'criterion': 'gini', 'max_depth': 8, 'min_samples_split': 50}\n",
      "0.5837858932141038 {'criterion': 'gini', 'max_depth': 8, 'min_samples_split': 60}\n",
      "0.5853811465696412 {'criterion': 'gini', 'max_depth': 8, 'min_samples_split': 70}\n",
      "0.5615419867907487 {'criterion': 'gini', 'max_depth': 10, 'min_samples_split': 45}\n",
      "0.5645668377408718 {'criterion': 'gini', 'max_depth': 10, 'min_samples_split': 50}\n",
      "0.5668177810195844 {'criterion': 'gini', 'max_depth': 10, 'min_samples_split': 60}\n",
      "0.5687124120935585 {'criterion': 'gini', 'max_depth': 10, 'min_samples_split': 70}\n"
     ]
    }
   ],
   "source": [
    "grid_cvres = grid_search.cv_results_\n",
    "\n",
    "for mean_score, params in zip(grid_cvres[\"mean_test_score\"], grid_cvres[\"params\"]):\n",
    "    print(mean_score, params)"
   ]
  },
  {
   "cell_type": "code",
   "execution_count": 22,
   "id": "b35670c3",
   "metadata": {},
   "outputs": [
    {
     "data": {
      "text/plain": [
       "DecisionTreeClassifier(class_weight='balanced', max_depth=8,\n",
       "                       min_samples_split=70, random_state=58)"
      ]
     },
     "execution_count": 22,
     "metadata": {},
     "output_type": "execute_result"
    }
   ],
   "source": [
    "grid_search.best_estimator_"
   ]
  },
  {
   "cell_type": "markdown",
   "id": "4c917c11",
   "metadata": {},
   "source": [
    "#### Best Decision Tree Model after tuning"
   ]
  },
  {
   "cell_type": "code",
   "execution_count": 23,
   "id": "1be67aa2",
   "metadata": {},
   "outputs": [
    {
     "name": "stdout",
     "output_type": "stream",
     "text": [
      "Time taken:  0.2988548999999949 sec\n"
     ]
    }
   ],
   "source": [
    "tree_best_model = grid_search.best_estimator_\n",
    "\n",
    "start_time = time.perf_counter()\n",
    "tree_best_model.fit(X_train_ES, y_train)\n",
    "end_time = time.perf_counter()\n",
    "print(\"Time taken: \", end_time - start_time, \"sec\")"
   ]
  },
  {
   "cell_type": "markdown",
   "id": "61e83b96",
   "metadata": {},
   "source": [
    "#### Evaluating on test set"
   ]
  },
  {
   "cell_type": "code",
   "execution_count": 24,
   "id": "89110a29",
   "metadata": {},
   "outputs": [
    {
     "name": "stdout",
     "output_type": "stream",
     "text": [
      "F1 score:  0.4537947306331105\n",
      "Recall:  0.6333699231613611\n",
      "Precision:  0.35355392156862747\n",
      "Accuracy:  0.8313911143481427\n",
      "F Beta Score:  0.605194965449161\n",
      "Classification report: \n",
      "               precision    recall  f1-score   support\n",
      "\n",
      "           0       0.95      0.86      0.90      7327\n",
      "           1       0.35      0.63      0.45       911\n",
      "\n",
      "    accuracy                           0.83      8238\n",
      "   macro avg       0.65      0.74      0.68      8238\n",
      "weighted avg       0.88      0.83      0.85      8238\n",
      "\n"
     ]
    }
   ],
   "source": [
    "tree_best_pred = tree_best_model.predict(X_test_ES)\n",
    "\n",
    "print(\"F1 score: \", f1_score(y_test, tree_best_pred))\n",
    "print(\"Recall: \", recall_score(y_test, tree_best_pred))\n",
    "print(\"Precision: \", precision_score(y_test, tree_best_pred))\n",
    "print(\"Accuracy: \", accuracy_score(y_test, tree_best_pred))\n",
    "print(\"F Beta Score: \", fbeta_score(y_test, tree_best_pred, beta = 4))\n",
    "print(\"Classification report: \\n\", classification_report(y_test, tree_best_pred))"
   ]
  },
  {
   "cell_type": "markdown",
   "id": "8b218a00",
   "metadata": {},
   "source": [
    "#### Confusion matrix"
   ]
  },
  {
   "cell_type": "code",
   "execution_count": 25,
   "id": "63588f50",
   "metadata": {},
   "outputs": [
    {
     "data": {
      "image/png": "[encoded data removed]",
      "text/plain": [
       "<Figure size 432x288 with 2 Axes>"
      ]
     },
     "metadata": {
      "needs_background": "light"
     },
     "output_type": "display_data"
    }
   ],
   "source": [
    "from sklearn.metrics import confusion_matrix, ConfusionMatrixDisplay\n",
    "\n",
    "cm_tree = confusion_matrix(y_test, tree_best_pred, labels = tree_best_model.classes_)\n",
    "cm_disp_tree = ConfusionMatrixDisplay(confusion_matrix = cm_tree, display_labels = tree_best_model.classes_)\n",
    "cm_disp_tree.plot()\n",
    "plt.show()"
   ]
  },
  {
   "cell_type": "markdown",
   "id": "e65aba1c",
   "metadata": {},
   "source": [
    "## Naive Bayes Classifier"
   ]
  },
  {
   "cell_type": "markdown",
   "id": "e6822eda",
   "metadata": {},
   "source": [
    "### Gaussian Naive Bayes"
   ]
  },
  {
   "cell_type": "code",
   "execution_count": 26,
   "id": "1c7a5212",
   "metadata": {},
   "outputs": [
    {
     "name": "stdout",
     "output_type": "stream",
     "text": [
      "Time taken:  0.03522289999999373 sec\n"
     ]
    }
   ],
   "source": [
    "from sklearn.naive_bayes import GaussianNB\n",
    "\n",
    "gauss_nb = GaussianNB()\n",
    "\n",
    "start_time = time.perf_counter()\n",
    "gauss_nb.fit(X_train_ES, y_train)\n",
    "end_time = time.perf_counter()\n",
    "print(\"Time taken: \", end_time - start_time, \"sec\")"
   ]
  },
  {
   "cell_type": "markdown",
   "id": "c4964a3f",
   "metadata": {},
   "source": [
    "#### Evaluating on test set"
   ]
  },
  {
   "cell_type": "code",
   "execution_count": 27,
   "id": "6be28312",
   "metadata": {},
   "outputs": [
    {
     "name": "stdout",
     "output_type": "stream",
     "text": [
      "F1 score:  0.4039688164422396\n",
      "Recall:  0.6256860592755215\n",
      "Precision:  0.29827315541601257\n",
      "Accuracy:  0.7958242291818403\n",
      "F Beta Score:  0.587735791835992\n",
      "Classification report: \n",
      "               precision    recall  f1-score   support\n",
      "\n",
      "           0       0.95      0.82      0.88      7327\n",
      "           1       0.30      0.63      0.40       911\n",
      "\n",
      "    accuracy                           0.80      8238\n",
      "   macro avg       0.62      0.72      0.64      8238\n",
      "weighted avg       0.87      0.80      0.82      8238\n",
      "\n"
     ]
    }
   ],
   "source": [
    "gauss_pred = gauss_nb.predict(X_test_ES)\n",
    "\n",
    "print(\"F1 score: \", f1_score(y_test, gauss_pred))\n",
    "print(\"Recall: \", recall_score(y_test, gauss_pred))\n",
    "print(\"Precision: \", precision_score(y_test, gauss_pred))\n",
    "print(\"Accuracy: \", accuracy_score(y_test, gauss_pred))\n",
    "print(\"F Beta Score: \", fbeta_score(y_test, gauss_pred, beta = 4))\n",
    "print(\"Classification report: \\n\", classification_report(y_test, gauss_pred))"
   ]
  },
  {
   "cell_type": "markdown",
   "id": "5e2d0d07",
   "metadata": {},
   "source": [
    "#### Confusion matrix"
   ]
  },
  {
   "cell_type": "code",
   "execution_count": 28,
   "id": "32dab583",
   "metadata": {},
   "outputs": [
    {
     "data": {
      "image/png": "[encoded data removed]",
      "text/plain": [
       "<Figure size 432x288 with 2 Axes>"
      ]
     },
     "metadata": {
      "needs_background": "light"
     },
     "output_type": "display_data"
    }
   ],
   "source": [
    "cm_gauss = confusion_matrix(y_test, gauss_pred, labels = gauss_nb.classes_)\n",
    "cm_disp_gauss = ConfusionMatrixDisplay(confusion_matrix = cm_gauss, display_labels = gauss_nb.classes_)\n",
    "cm_disp_gauss.plot()\n",
    "plt.show()"
   ]
  },
  {
   "cell_type": "markdown",
   "id": "024c3bc5",
   "metadata": {},
   "source": [
    "## Ensemble Classifiers"
   ]
  },
  {
   "cell_type": "markdown",
   "id": "ccede162",
   "metadata": {},
   "source": [
    "## Bagging with Random Forest"
   ]
  },
  {
   "cell_type": "code",
   "execution_count": 29,
   "id": "85cb5ae9",
   "metadata": {},
   "outputs": [
    {
     "data": {
      "text/plain": [
       "RandomForestClassifier(class_weight='balanced', max_features='log2',\n",
       "                       min_samples_split=80, n_estimators=200, random_state=58)"
      ]
     },
     "execution_count": 29,
     "metadata": {},
     "output_type": "execute_result"
    }
   ],
   "source": [
    "from sklearn.ensemble import RandomForestClassifier\n",
    "\n",
    "forest_clf = RandomForestClassifier(n_estimators = 200, max_features = \"log2\", min_samples_split = 80, \n",
    "                                   class_weight = \"balanced\", random_state = seed)\n",
    "\n",
    "forest_clf.fit(X_train_ES, y_train)"
   ]
  },
  {
   "cell_type": "markdown",
   "id": "3494d868",
   "metadata": {},
   "source": [
    "#### Performance on test set"
   ]
  },
  {
   "cell_type": "code",
   "execution_count": 30,
   "id": "bfde7d1f",
   "metadata": {},
   "outputs": [
    {
     "name": "stdout",
     "output_type": "stream",
     "text": [
      "F1 score:  0.48780487804878053\n",
      "Recall:  0.6256860592755215\n",
      "Precision:  0.3997194950911641\n",
      "Accuracy:  0.8546977421704297\n",
      "F Beta Score:  0.605549306336708\n",
      "Classification report: \n",
      "               precision    recall  f1-score   support\n",
      "\n",
      "           0       0.95      0.88      0.92      7327\n",
      "           1       0.40      0.63      0.49       911\n",
      "\n",
      "    accuracy                           0.85      8238\n",
      "   macro avg       0.67      0.75      0.70      8238\n",
      "weighted avg       0.89      0.85      0.87      8238\n",
      "\n"
     ]
    }
   ],
   "source": [
    "forest_pred = forest_clf.predict(X_test_ES)\n",
    "\n",
    "print(\"F1 score: \", f1_score(y_test, forest_pred))\n",
    "print(\"Recall: \", recall_score(y_test, forest_pred))\n",
    "print(\"Precision: \", precision_score(y_test, forest_pred))\n",
    "print(\"Accuracy: \", accuracy_score(y_test, forest_pred))\n",
    "print(\"F Beta Score: \", fbeta_score(y_test, forest_pred, beta = 4))\n",
    "print(\"Classification report: \\n\", classification_report(y_test, forest_pred))"
   ]
  },
  {
   "cell_type": "markdown",
   "id": "2885c2d5",
   "metadata": {},
   "source": [
    "### Tuning hyperparameters with Grid Search"
   ]
  },
  {
   "cell_type": "code",
   "execution_count": 31,
   "id": "8739a587",
   "metadata": {},
   "outputs": [
    {
     "data": {
      "text/plain": [
       "GridSearchCV(cv=5,\n",
       "             estimator=RandomForestClassifier(class_weight='balanced',\n",
       "                                              random_state=58),\n",
       "             param_grid=[{'max_features': ['log2', 8],\n",
       "                          'min_samples_split': [70, 80, 90, 100],\n",
       "                          'n_estimators': [150, 200]}],\n",
       "             return_train_score=True, scoring=make_scorer(fbeta_score, beta=4))"
      ]
     },
     "execution_count": 31,
     "metadata": {},
     "output_type": "execute_result"
    }
   ],
   "source": [
    "param_grid = [\n",
    "    {\"n_estimators\" : [150, 200], \"max_features\" : [\"log2\", 8], \"min_samples_split\" : [70, 80, 90, 100]}\n",
    "]\n",
    "\n",
    "forest_clf = RandomForestClassifier(class_weight = \"balanced\", random_state = seed)\n",
    "\n",
    "grid_forest_search = GridSearchCV(forest_clf, param_grid, cv = 5, \n",
    "                           scoring = scorer, return_train_score = True)\n",
    "\n",
    "grid_forest_search.fit(X_train_ES, y_train)"
   ]
  },
  {
   "cell_type": "markdown",
   "id": "76e25b4e",
   "metadata": {},
   "source": [
    "#### Cross validation scores on train set"
   ]
  },
  {
   "cell_type": "code",
   "execution_count": 32,
   "id": "e5958077",
   "metadata": {
    "scrolled": true
   },
   "outputs": [
    {
     "name": "stdout",
     "output_type": "stream",
     "text": [
      "0.5927482555901437 {'max_features': 'log2', 'min_samples_split': 70, 'n_estimators': 150}\n",
      "0.5922705273139389 {'max_features': 'log2', 'min_samples_split': 70, 'n_estimators': 200}\n",
      "0.5924067021443763 {'max_features': 'log2', 'min_samples_split': 80, 'n_estimators': 150}\n",
      "0.5936454232089642 {'max_features': 'log2', 'min_samples_split': 80, 'n_estimators': 200}\n",
      "0.5939300849597424 {'max_features': 'log2', 'min_samples_split': 90, 'n_estimators': 150}\n",
      "0.593621069635819 {'max_features': 'log2', 'min_samples_split': 90, 'n_estimators': 200}\n",
      "0.5948920108950269 {'max_features': 'log2', 'min_samples_split': 100, 'n_estimators': 150}\n",
      "0.5946586704100396 {'max_features': 'log2', 'min_samples_split': 100, 'n_estimators': 200}\n",
      "0.5928396772242749 {'max_features': 8, 'min_samples_split': 70, 'n_estimators': 150}\n",
      "0.5926511182669386 {'max_features': 8, 'min_samples_split': 70, 'n_estimators': 200}\n",
      "0.5955665527261893 {'max_features': 8, 'min_samples_split': 80, 'n_estimators': 150}\n",
      "0.5948188565194424 {'max_features': 8, 'min_samples_split': 80, 'n_estimators': 200}\n",
      "0.5957066371412225 {'max_features': 8, 'min_samples_split': 90, 'n_estimators': 150}\n",
      "0.5949382451568103 {'max_features': 8, 'min_samples_split': 90, 'n_estimators': 200}\n",
      "0.5969203734067338 {'max_features': 8, 'min_samples_split': 100, 'n_estimators': 150}\n",
      "0.595609996969592 {'max_features': 8, 'min_samples_split': 100, 'n_estimators': 200}\n"
     ]
    }
   ],
   "source": [
    "forest_cvres = grid_forest_search.cv_results_\n",
    "\n",
    "for mean_score, params in zip(forest_cvres[\"mean_test_score\"], forest_cvres[\"params\"]):\n",
    "    print(mean_score, params)"
   ]
  },
  {
   "cell_type": "markdown",
   "id": "9ba57774",
   "metadata": {},
   "source": [
    "#### Best Random forest model after tuning"
   ]
  },
  {
   "cell_type": "code",
   "execution_count": 33,
   "id": "36065cab",
   "metadata": {},
   "outputs": [
    {
     "data": {
      "text/plain": [
       "RandomForestClassifier(class_weight='balanced', max_features=8,\n",
       "                       min_samples_split=100, n_estimators=150,\n",
       "                       random_state=58)"
      ]
     },
     "execution_count": 33,
     "metadata": {},
     "output_type": "execute_result"
    }
   ],
   "source": [
    "grid_forest_search.best_estimator_"
   ]
  },
  {
   "cell_type": "markdown",
   "id": "0c7749cc",
   "metadata": {},
   "source": [
    "#### Evaluating on test set"
   ]
  },
  {
   "cell_type": "code",
   "execution_count": 34,
   "id": "eea4183a",
   "metadata": {},
   "outputs": [
    {
     "name": "stdout",
     "output_type": "stream",
     "text": [
      "Time taken:  5.9074247000000355 sec\n"
     ]
    }
   ],
   "source": [
    "forest_best_model = grid_forest_search.best_estimator_\n",
    "\n",
    "start_time = time.perf_counter()\n",
    "forest_best_model.fit(X_train_ES, y_train)\n",
    "end_time = time.perf_counter()\n",
    "print(\"Time taken: \", end_time - start_time, \"sec\")"
   ]
  },
  {
   "cell_type": "code",
   "execution_count": 35,
   "id": "0303a308",
   "metadata": {},
   "outputs": [
    {
     "name": "stdout",
     "output_type": "stream",
     "text": [
      "F1 score:  0.49121303043291903\n",
      "Recall:  0.6289791437980241\n",
      "Precision:  0.4029535864978903\n",
      "Accuracy:  0.8559116290361738\n",
      "F Beta Score:  0.6088886110763845\n",
      "Classification report: \n",
      "               precision    recall  f1-score   support\n",
      "\n",
      "           0       0.95      0.88      0.92      7327\n",
      "           1       0.40      0.63      0.49       911\n",
      "\n",
      "    accuracy                           0.86      8238\n",
      "   macro avg       0.68      0.76      0.70      8238\n",
      "weighted avg       0.89      0.86      0.87      8238\n",
      "\n"
     ]
    }
   ],
   "source": [
    "forest_best_pred = forest_best_model.predict(X_test_ES)\n",
    "\n",
    "print(\"F1 score: \", f1_score(y_test, forest_best_pred))\n",
    "print(\"Recall: \", recall_score(y_test, forest_best_pred))\n",
    "print(\"Precision: \", precision_score(y_test, forest_best_pred))\n",
    "print(\"Accuracy: \", accuracy_score(y_test, forest_best_pred))\n",
    "print(\"F Beta Score: \", fbeta_score(y_test, forest_best_pred, beta = 4))\n",
    "print(\"Classification report: \\n\", classification_report(y_test, forest_best_pred))"
   ]
  },
  {
   "cell_type": "markdown",
   "id": "d1a162a6",
   "metadata": {},
   "source": [
    "#### Confusion matrix"
   ]
  },
  {
   "cell_type": "code",
   "execution_count": 36,
   "id": "ef174a2d",
   "metadata": {},
   "outputs": [
    {
     "data": {
      "image/png": "[encoded data removed]",
      "text/plain": [
       "<Figure size 432x288 with 2 Axes>"
      ]
     },
     "metadata": {
      "needs_background": "light"
     },
     "output_type": "display_data"
    }
   ],
   "source": [
    "cm_forest = confusion_matrix(y_test, forest_best_pred, labels = forest_best_model.classes_)\n",
    "cm_disp_forest = ConfusionMatrixDisplay(confusion_matrix = cm_forest, display_labels = forest_best_model.classes_)\n",
    "cm_disp_forest.plot()\n",
    "plt.show()"
   ]
  },
  {
   "cell_type": "markdown",
   "id": "a172c818",
   "metadata": {},
   "source": [
    "#### Feature Importance"
   ]
  },
  {
   "cell_type": "code",
   "execution_count": 37,
   "id": "af8ed384",
   "metadata": {
    "scrolled": true
   },
   "outputs": [
    {
     "data": {
      "text/plain": [
       "[(0.16450966666634792, 'euribor3m'),\n",
       " (0.15304445122320834, 'nr.employed'),\n",
       " (0.0871454957992802, 'emp.var.rate'),\n",
       " (0.05889624659218209, 'cons.conf.idx'),\n",
       " (0.05439678138462153, 'age'),\n",
       " (0.04667062792575191, 'cons.price.idx'),\n",
       " (0.04161349170415633, 'pdays'),\n",
       " (0.030643291097434747, 'campaign'),\n",
       " (0.020171580115971626, 'previous'),\n",
       " (0.008653520074512743, 'blue-collar'),\n",
       " (0.006083803922649327, 'retired'),\n",
       " (0.0059898085558334315, 'admin.'),\n",
       " (0.005735715248443569, 'services'),\n",
       " (0.005321695526153763, 'technician'),\n",
       " (0.0050982594543449965, 'entrepreneur'),\n",
       " (0.005047467011044944, 'management'),\n",
       " (0.004612796595418046, 'self-employed'),\n",
       " (0.003614272681450302, 'housemaid'),\n",
       " (0.0032951002239461733, 'student'),\n",
       " (0.0026848022716366936, 'unemployed'),\n",
       " (0.0014678500756886296, 'unknown')]"
      ]
     },
     "execution_count": 37,
     "metadata": {},
     "output_type": "execute_result"
    }
   ],
   "source": [
    "feature_importances = forest_best_model.feature_importances_\n",
    "\n",
    "cat_encoder = pipeline.named_transformers_[\"cat\"]\n",
    "cat_one_hot_attr = list(cat_encoder.categories_[0])\n",
    "attributes = num_attr + cat_one_hot_attr\n",
    "\n",
    "sorted(zip(feature_importances, attributes), reverse = True)"
   ]
  },
  {
   "cell_type": "markdown",
   "id": "5c69c362",
   "metadata": {},
   "source": [
    "## Boosting with Decision Stumps"
   ]
  },
  {
   "cell_type": "code",
   "execution_count": 38,
   "id": "de3bd39c",
   "metadata": {},
   "outputs": [
    {
     "data": {
      "text/plain": [
       "AdaBoostClassifier(base_estimator=DecisionTreeClassifier(class_weight='balanced',\n",
       "                                                         max_depth=1,\n",
       "                                                         random_state=58),\n",
       "                   learning_rate=0.4, n_estimators=200)"
      ]
     },
     "execution_count": 38,
     "metadata": {},
     "output_type": "execute_result"
    }
   ],
   "source": [
    "from sklearn.ensemble import AdaBoostClassifier\n",
    "\n",
    "model = DecisionTreeClassifier(max_depth = 1, class_weight = \"balanced\", random_state = seed)\n",
    "boosting = AdaBoostClassifier(model, n_estimators = 200, learning_rate = 0.4)\n",
    "\n",
    "boosting.fit(X_train_ES, y_train)"
   ]
  },
  {
   "cell_type": "markdown",
   "id": "80d45b65",
   "metadata": {},
   "source": [
    "#### Performance on test set"
   ]
  },
  {
   "cell_type": "code",
   "execution_count": 39,
   "id": "f19e2f6d",
   "metadata": {},
   "outputs": [
    {
     "name": "stdout",
     "output_type": "stream",
     "text": [
      "F1 score:  0.45541523153463453\n",
      "Recall:  0.6531284302963776\n",
      "Precision:  0.3495887191539365\n",
      "Accuracy:  0.8272638990046127\n",
      "F Beta Score:  0.6213908342548223\n",
      "Classification report: \n",
      "               precision    recall  f1-score   support\n",
      "\n",
      "           0       0.95      0.85      0.90      7327\n",
      "           1       0.35      0.65      0.46       911\n",
      "\n",
      "    accuracy                           0.83      8238\n",
      "   macro avg       0.65      0.75      0.68      8238\n",
      "weighted avg       0.89      0.83      0.85      8238\n",
      "\n"
     ]
    }
   ],
   "source": [
    "boost_pred = boosting.predict(X_test_ES)\n",
    "\n",
    "print(\"F1 score: \", f1_score(y_test, boost_pred))\n",
    "print(\"Recall: \", recall_score(y_test, boost_pred))\n",
    "print(\"Precision: \", precision_score(y_test, boost_pred))\n",
    "print(\"Accuracy: \", accuracy_score(y_test, boost_pred))\n",
    "print(\"F Beta Score: \", fbeta_score(y_test, boost_pred, beta = 4))\n",
    "print(\"Classification report: \\n\", classification_report(y_test, boost_pred))"
   ]
  },
  {
   "cell_type": "markdown",
   "id": "c6f22b42",
   "metadata": {},
   "source": [
    "### Tuning hyperparameters with Grid Search"
   ]
  },
  {
   "cell_type": "code",
   "execution_count": 40,
   "id": "788776ac",
   "metadata": {},
   "outputs": [
    {
     "data": {
      "text/plain": [
       "GridSearchCV(cv=5,\n",
       "             estimator=AdaBoostClassifier(base_estimator=DecisionTreeClassifier(class_weight='balanced',\n",
       "                                                                                max_depth=1,\n",
       "                                                                                random_state=58)),\n",
       "             param_grid=[{'learning_rate': [0.2, 0.5, 0.8, 1.0],\n",
       "                          'n_estimators': [150, 200, 250]}],\n",
       "             scoring=make_scorer(fbeta_score, beta=4))"
      ]
     },
     "execution_count": 40,
     "metadata": {},
     "output_type": "execute_result"
    }
   ],
   "source": [
    "param_grid_boost = [\n",
    "    {\"n_estimators\" : [150, 200, 250], \"learning_rate\" : [0.2, 0.5, 0.8, 1.0]}\n",
    "]\n",
    "\n",
    "base_estimator = DecisionTreeClassifier(max_depth = 1, class_weight = \"balanced\", random_state = seed)\n",
    "adaboost = AdaBoostClassifier(base_estimator)\n",
    "grid_boost_search = GridSearchCV(adaboost, param_grid_boost, cv = 5, scoring = scorer)\n",
    "\n",
    "grid_boost_search.fit(X_train_ES, y_train)"
   ]
  },
  {
   "cell_type": "markdown",
   "id": "5f931300",
   "metadata": {},
   "source": [
    "#### Cross validation scores on train set"
   ]
  },
  {
   "cell_type": "code",
   "execution_count": 41,
   "id": "498a3b92",
   "metadata": {},
   "outputs": [
    {
     "name": "stdout",
     "output_type": "stream",
     "text": [
      "0.5935510422123957 {'learning_rate': 0.2, 'n_estimators': 150}\n",
      "0.5951457624491672 {'learning_rate': 0.2, 'n_estimators': 200}\n",
      "0.5983425013293222 {'learning_rate': 0.2, 'n_estimators': 250}\n",
      "0.6062451302393362 {'learning_rate': 0.5, 'n_estimators': 150}\n",
      "0.6085415874634054 {'learning_rate': 0.5, 'n_estimators': 200}\n",
      "0.6091969046234398 {'learning_rate': 0.5, 'n_estimators': 250}\n",
      "0.607447033477403 {'learning_rate': 0.8, 'n_estimators': 150}\n",
      "0.6084991422793372 {'learning_rate': 0.8, 'n_estimators': 200}\n",
      "0.6102659775160315 {'learning_rate': 0.8, 'n_estimators': 250}\n",
      "0.6111631871898302 {'learning_rate': 1.0, 'n_estimators': 150}\n",
      "0.6111854830377587 {'learning_rate': 1.0, 'n_estimators': 200}\n",
      "0.6113689632051195 {'learning_rate': 1.0, 'n_estimators': 250}\n"
     ]
    }
   ],
   "source": [
    "boost_cvres = grid_boost_search.cv_results_\n",
    "\n",
    "for mean_score, params in zip(boost_cvres[\"mean_test_score\"], boost_cvres[\"params\"]):\n",
    "    print(mean_score, params)"
   ]
  },
  {
   "cell_type": "code",
   "execution_count": 42,
   "id": "ac259819",
   "metadata": {},
   "outputs": [
    {
     "data": {
      "text/plain": [
       "AdaBoostClassifier(base_estimator=DecisionTreeClassifier(class_weight='balanced',\n",
       "                                                         max_depth=1,\n",
       "                                                         random_state=58),\n",
       "                   n_estimators=250)"
      ]
     },
     "execution_count": 42,
     "metadata": {},
     "output_type": "execute_result"
    }
   ],
   "source": [
    "grid_boost_search.best_estimator_"
   ]
  },
  {
   "cell_type": "markdown",
   "id": "42271074",
   "metadata": {},
   "source": [
    "#### Evaluating on test set"
   ]
  },
  {
   "cell_type": "code",
   "execution_count": 43,
   "id": "2c1a14ca",
   "metadata": {},
   "outputs": [
    {
     "name": "stdout",
     "output_type": "stream",
     "text": [
      "Time taken:  15.279631000000109 sec\n"
     ]
    }
   ],
   "source": [
    "boost_best_model = grid_boost_search.best_estimator_\n",
    "\n",
    "start_time = time.perf_counter()\n",
    "boost_best_model.fit(X_train_ES, y_train)\n",
    "end_time = time.perf_counter()\n",
    "print(\"Time taken: \", end_time - start_time, \"sec\")"
   ]
  },
  {
   "cell_type": "code",
   "execution_count": 44,
   "id": "dbc19c0e",
   "metadata": {},
   "outputs": [
    {
     "name": "stdout",
     "output_type": "stream",
     "text": [
      "F1 score:  0.4524264424914023\n",
      "Recall:  0.6498353457738749\n",
      "Precision:  0.347010550996483\n",
      "Accuracy:  0.8260500121388686\n",
      "F Beta Score:  0.6181058837980593\n",
      "Classification report: \n",
      "               precision    recall  f1-score   support\n",
      "\n",
      "           0       0.95      0.85      0.90      7327\n",
      "           1       0.35      0.65      0.45       911\n",
      "\n",
      "    accuracy                           0.83      8238\n",
      "   macro avg       0.65      0.75      0.67      8238\n",
      "weighted avg       0.88      0.83      0.85      8238\n",
      "\n"
     ]
    }
   ],
   "source": [
    "boost_best_pred = boost_best_model.predict(X_test_ES)\n",
    "\n",
    "print(\"F1 score: \", f1_score(y_test, boost_best_pred))\n",
    "print(\"Recall: \", recall_score(y_test, boost_best_pred))\n",
    "print(\"Precision: \", precision_score(y_test, boost_best_pred))\n",
    "print(\"Accuracy: \", accuracy_score(y_test, boost_best_pred))\n",
    "print(\"F Beta Score: \", fbeta_score(y_test, boost_best_pred, beta = 4))\n",
    "print(\"Classification report: \\n\", classification_report(y_test, boost_best_pred))"
   ]
  },
  {
   "cell_type": "markdown",
   "id": "70fa4d55",
   "metadata": {},
   "source": [
    "#### Confusion matrix"
   ]
  },
  {
   "cell_type": "code",
   "execution_count": 45,
   "id": "9c34e340",
   "metadata": {},
   "outputs": [
    {
     "data": {
      "image/png": "[encoded data removed]",
      "text/plain": [
       "<Figure size 432x288 with 2 Axes>"
      ]
     },
     "metadata": {
      "needs_background": "light"
     },
     "output_type": "display_data"
    }
   ],
   "source": [
    "cm_boost = confusion_matrix(y_test, boost_best_pred, labels = boost_best_model.classes_)\n",
    "cm_disp_boost = ConfusionMatrixDisplay(confusion_matrix = cm_boost, display_labels = boost_best_model.classes_)\n",
    "cm_disp_boost.plot()\n",
    "plt.show()"
   ]
  },
  {
   "cell_type": "code",
   "execution_count": null,
   "id": "177895d0",
   "metadata": {},
   "outputs": [],
   "source": []
  }
 ],
 "metadata": {
  "kernelspec": {
   "display_name": "Python 3 (ipykernel)",
   "language": "python",
   "name": "python3"
  },
  "language_info": {
   "codemirror_mode": {
    "name": "ipython",
    "version": 3
   },
   "file_extension": ".py",
   "mimetype": "text/x-python",
   "name": "python",
   "nbconvert_exporter": "python",
   "pygments_lexer": "ipython3",
   "version": "3.9.12"
  }
 },
 "nbformat": 4,
 "nbformat_minor": 5
}
